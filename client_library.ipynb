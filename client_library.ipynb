{
 "cells": [
  {
   "cell_type": "code",
   "execution_count": 1,
   "metadata": {
    "collapsed": true
   },
   "outputs": [],
   "source": [
    "from interop import client"
   ]
  },
  {
   "cell_type": "code",
   "execution_count": 2,
   "metadata": {
    "collapsed": true
   },
   "outputs": [],
   "source": [
    "import interop"
   ]
  },
  {
   "cell_type": "code",
   "execution_count": 3,
   "metadata": {
    "collapsed": true
   },
   "outputs": [],
   "source": [
    "client = interop.Client(url='http://127.0.0.1:8000',\n",
    "                        username='testuser',\n",
    "                        password='testpass')\n"
   ]
  },
  {
   "cell_type": "code",
   "execution_count": 4,
   "metadata": {
    "collapsed": true
   },
   "outputs": [],
   "source": [
    "missions = client.get_missions()"
   ]
  },
  {
   "cell_type": "code",
   "execution_count": 5,
   "metadata": {},
   "outputs": [
    {
     "name": "stdout",
     "output_type": "stream",
     "text": [
      "[Mission(id=1, active=True, air_drop_pos=GpsPosition(latitude=38.141833, longitude=-76.425263), fly_zones=[FlyZone(boundary_pts=[Waypoint(order=1, latitude=38.142544, longitude=-76.434088, altitude_msl=None), Waypoint(order=2, latitude=38.141833, longitude=-76.425263, altitude_msl=None), Waypoint(order=3, latitude=38.144678, longitude=-76.427995, altitude_msl=None)], altitude_msl_min=0.0, altitude_msl_max=750.0)], home_pos=GpsPosition(latitude=38.14792, longitude=-76.427995), mission_waypoints=[Waypoint(order=1, latitude=38.142544, longitude=-76.434088, altitude_msl=200.0)], off_axis_odlc_pos=GpsPosition(latitude=38.142544, longitude=-76.434088), emergent_last_known_pos=GpsPosition(latitude=38.145823, longitude=-76.422396), search_grid_points=[Waypoint(order=1, latitude=38.142544, longitude=-76.434088, altitude_msl=200.0)])]\n"
     ]
    }
   ],
   "source": [
    "print(missions)"
   ]
  },
  {
   "cell_type": "code",
   "execution_count": 6,
   "metadata": {
    "collapsed": true
   },
   "outputs": [],
   "source": [
    "telemetry = interop.Telemetry(latitude=38.145215,\n",
    "                              longitude=-76.427942,\n",
    "                              altitude_msl=50,\n",
    "                              uas_heading=90)"
   ]
  },
  {
   "cell_type": "code",
   "execution_count": 7,
   "metadata": {
    "collapsed": true
   },
   "outputs": [],
   "source": [
    "client.post_telemetry(telemetry)"
   ]
  },
  {
   "cell_type": "code",
   "execution_count": 8,
   "metadata": {},
   "outputs": [
    {
     "name": "stdout",
     "output_type": "stream",
     "text": [
      "Telemetry(latitude=38.145215, longitude=-76.427942, altitude_msl=50.0, uas_heading=90.0)\n"
     ]
    }
   ],
   "source": [
    "print(telemetry)"
   ]
  },
  {
   "cell_type": "code",
   "execution_count": 9,
   "metadata": {
    "collapsed": true
   },
   "outputs": [],
   "source": [
    "odlc = interop.Odlc(type='standard',\n",
    "                    latitude=38.145215,\n",
    "                    longitude=-76.427942,\n",
    "                    orientation='n',\n",
    "                    shape='square',\n",
    "                    background_color='green',\n",
    "                    alphanumeric='A',\n",
    "                    alphanumeric_color='white')\n"
   ]
  },
  {
   "cell_type": "code",
   "execution_count": 10,
   "metadata": {
    "collapsed": true
   },
   "outputs": [],
   "source": [
    "odlc = client.post_odlc(odlc)"
   ]
  },
  {
   "cell_type": "code",
   "execution_count": 12,
   "metadata": {},
   "outputs": [
    {
     "data": {
      "text/plain": [
       "([StationaryObstacle(latitude=38.14792, longitude=-76.427995, cylinder_radius=150.0, cylinder_height=200.0),\n",
       "  StationaryObstacle(latitude=38.145823, longitude=-76.422396, cylinder_radius=50.0, cylinder_height=300.0)],\n",
       " [MovingObstacle(latitude=38.14104100316351, longitude=-76.43045489045116, altitude_msl=319.1107756835418, sphere_radius=50.0)])"
      ]
     },
     "execution_count": 12,
     "metadata": {},
     "output_type": "execute_result"
    }
   ],
   "source": [
    "client.get_obstacles()"
   ]
  },
  {
   "cell_type": "code",
   "execution_count": 14,
   "metadata": {},
   "outputs": [
    {
     "data": {
      "text/plain": [
       "Odlc(id=1, user=2, type=emergent, latitude=38.14792, longitude=-76.427995, orientation=None, shape=None, background_color=None, alphanumeric=None, alphanumeric_color=None, description=SUAS Judge, autonomous=False, team_id=None, actionable_override=None)"
      ]
     },
     "execution_count": 14,
     "metadata": {},
     "output_type": "execute_result"
    }
   ],
   "source": [
    "client.get_odlc(1)"
   ]
  },
  {
   "cell_type": "code",
   "execution_count": 15,
   "metadata": {},
   "outputs": [
    {
     "data": {
      "text/plain": [
       "Odlc(id=2, user=2, type=standard, latitude=38.145215, longitude=-76.427942, orientation=n, shape=square, background_color=green, alphanumeric=A, alphanumeric_color=white, description=None, autonomous=False, team_id=None, actionable_override=None)"
      ]
     },
     "execution_count": 15,
     "metadata": {},
     "output_type": "execute_result"
    }
   ],
   "source": [
    "client.get_odlc(2)"
   ]
  },
  {
   "cell_type": "code",
   "execution_count": null,
   "metadata": {},
   "outputs": [],
   "source": []
  },
  {
   "cell_type": "code",
   "execution_count": null,
   "metadata": {
    "collapsed": true
   },
   "outputs": [],
   "source": []
  }
 ],
 "metadata": {
  "kernelspec": {
   "display_name": "Python 3",
   "language": "python",
   "name": "python3"
  },
  "language_info": {
   "codemirror_mode": {
    "name": "ipython",
    "version": 3
   },
   "file_extension": ".py",
   "mimetype": "text/x-python",
   "name": "python",
   "nbconvert_exporter": "python",
   "pygments_lexer": "ipython3",
   "version": "3.6.3"
  }
 },
 "nbformat": 4,
 "nbformat_minor": 2
}
